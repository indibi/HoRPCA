{
 "cells": [
  {
   "cell_type": "code",
   "execution_count": 2,
   "metadata": {},
   "outputs": [],
   "source": [
    "import numpy as np\n"
   ]
  },
  {
   "cell_type": "code",
   "execution_count": 20,
   "metadata": {},
   "outputs": [
    {
     "name": "stdout",
     "output_type": "stream",
     "text": [
      "shape(A)= (2, 3, 4) ,\n",
      "A:\n",
      " [[[0.22733602 0.31675834 0.79736546 0.67625467]\n",
      "  [0.39110955 0.33281393 0.59830875 0.18673419]\n",
      "  [0.67275604 0.94180287 0.24824571 0.94888115]]\n",
      "\n",
      " [[0.66723745 0.09589794 0.44183967 0.88647992]\n",
      "  [0.6974535  0.32647286 0.73392816 0.22013496]\n",
      "  [0.08159457 0.1598956  0.34010018 0.46519315]]] \n",
      " shape(B)= (2, 3, 4) ,\n",
      "B:\n",
      " [[[0.26642103 0.8157764  0.19329439 0.12946908]\n",
      "  [0.09166475 0.59856801 0.8547419  0.60162124]\n",
      "  [0.93198836 0.72478136 0.86055132 0.9293378 ]]\n",
      "\n",
      " [[0.54618601 0.93767296 0.49498794 0.27377318]\n",
      "  [0.45177871 0.66503892 0.33089093 0.90345401]\n",
      "  [0.25707418 0.33982834 0.2588534  0.35544648]]]\n",
      "shape(a)= (2, 3, 4) ,\n",
      "a=\n",
      " [[[ 0  1  2  3]\n",
      "  [ 4  5  6  7]\n",
      "  [ 8  9 10 11]]\n",
      "\n",
      " [[12 13 14 15]\n",
      "  [16 17 18 19]\n",
      "  [20 21 22 23]]] \n",
      " shape(b)= (2, 3, 4) \n",
      "b=\n",
      " [[[-12 -11 -10  -9]\n",
      "  [ -8  -7  -6  -5]\n",
      "  [ -4  -3  -2  -1]]\n",
      "\n",
      " [[  0   1   2   3]\n",
      "  [  4   5   6   7]\n",
      "  [  8   9  10  11]]]\n"
     ]
    }
   ],
   "source": [
    "# Create two random tensors\n",
    "\n",
    "rng = np.random.default_rng(12345)\n",
    "A =  rng.random((2,3,4))\n",
    "B =  rng.random((2,3,4))\n",
    "a = np.arange(24).reshape(2,3,4)\n",
    "b = np.arange(-12,12,1).reshape(2,3,4)\n",
    "print(\"shape(A)=\",A.shape,\",\\nA:\\n\",A,'\\n',\"shape(B)=\",B.shape,\",\\nB:\\n\",B)\n",
    "print(\"shape(a)=\",a.shape,\",\\na=\\n\",a,'\\n',\"shape(b)=\",b.shape,\"\\nb=\\n\",b)"
   ]
  },
  {
   "cell_type": "code",
   "execution_count": 33,
   "metadata": {},
   "outputs": [
    {
     "name": "stdout",
     "output_type": "stream",
     "text": [
      "a.b = 1012\n",
      "A.B = 6.042918677486567\n",
      "||A||_F =  2.680149846723642\n",
      "sqrt(vdot(A,A))= 2.680149846723642\n",
      "trace(A(1,:,:)= 1.3338105021251898\n",
      "\n",
      "\n",
      "X=  [[0.66723745 0.09589794 0.44183967 0.88647992]\n",
      " [0.6974535  0.32647286 0.73392816 0.22013496]\n",
      " [0.08159457 0.1598956  0.34010018 0.46519315]]\n",
      "---------- SVD ----------\n",
      "U= [[ 0.71491502  0.54690689 -0.4356482 ]\n",
      " [ 0.61697958 -0.78658124  0.0250231 ]\n",
      " [ 0.3289874   0.28667544  0.89976913]] \n",
      "\n",
      "S= [1.61350732 0.55279829 0.26629366] \n",
      "\n",
      "Vh= [[ 0.57897242  0.19993067  0.5457584   0.57180978]\n",
      " [-0.2899718  -0.28674482 -0.43080921  0.80504483]\n",
      " [-0.75034484  0.4140569   0.49528085  0.14225466]\n",
      " [ 0.13300344  0.84045346 -0.52081481  0.06855656]] \n",
      "\n",
      " ---------------\n",
      "\n",
      " -------------------- Nuclear Norm --------------------\n",
      "||A(1,:,:)||_nuc= 2.432599261473079\n",
      "Sum of singular values of A(1,:,:) = 2.432599261473079\n",
      "trace{ A(1,:,:) A(1,:,:)*}= 3.291370830471304\n",
      "------------------------------------------------------------\n"
     ]
    }
   ],
   "source": [
    "# Inner product of two tensors \n",
    "# The tensors are vectorized first, then inner product of two vectors are taken\n",
    "print(\"a.b =\", np.vdot(a,b))\n",
    "print(\"A.B =\", np.vdot(A,B))\n",
    "\n",
    "# Frobenius norm of a tensor\n",
    "print(\"||A||_F = \", np.linalg.norm(A))\n",
    "print(\"sqrt(vdot(A,A))=\",np.sqrt(np.vdot(A,A)) )\n",
    "\n",
    "# Trace of a matrix\n",
    "print(\"trace(A(1,:,:)=\", np.trace(A[1,...]))\n",
    "# SVD of a matrix\n",
    "X = A[1,...]\n",
    "u, s ,vh = np.linalg.svd(X)\n",
    "print(\"\\n\\nX= \", X)\n",
    "print(10*'-',\"SVD\",10*'-')\n",
    "print(\"U=\",u,\"\\n\\nS=\",s,\"\\n\\nVh=\",vh,'\\n\\n',15*'-')\n",
    "\n",
    "# Nuclear norm of a matrix\n",
    "print(\"\\n\",10*\"--\",\"Nuclear Norm\",10*\"--\")\n",
    "print(\"||A(1,:,:)||_nuc=\",np.linalg.norm(A[1,...],'nuc'))\n",
    "print(\"Sum of singular values of A(1,:,:) =\",np.sum(np.linalg.svd(A[1,...],True,False)))\n",
    "print(\"trace{ A(1,:,:) A(1,:,:)*}=\",np.trace(np.sqrt( A[1,...].T @ A[1,...] ) ))\n",
    "print(20*\"---\")\n",
    "\n"
   ]
  },
  {
   "cell_type": "code",
   "execution_count": 39,
   "metadata": {},
   "outputs": [
    {
     "name": "stdout",
     "output_type": "stream",
     "text": [
      "-------------------- Vector outer product --------------------\n",
      "x= [0. 1. 2. 3. 4.] \n",
      "y= [-2.5 -1.5 -0.5  0.5  1.5]\n",
      "V= [[ -0.   -0.   -0.    0.    0. ]\n",
      " [ -2.5  -1.5  -0.5   0.5   1.5]\n",
      " [ -5.   -3.   -1.    1.    3. ]\n",
      " [ -7.5  -4.5  -1.5   1.5   4.5]\n",
      " [-10.   -6.   -2.    2.    6. ]]\n",
      "------------------------------------------------------------ \n",
      "\n"
     ]
    }
   ],
   "source": [
    "# Vector outer product\n",
    "print(10*'--',\"Vector outer product\",10*'--')\n",
    "x = np.arange(5.)\n",
    "y = np.arange(5.)-2.5\n",
    "print(\"x=\",x,'\\ny=',y)\n",
    "V = np.outer(x,y)\n",
    "print(\"V=\",V)\n",
    "print(30*'--','\\n')\n",
    "\n",
    "# np.tensordot\n"
   ]
  },
  {
   "cell_type": "code",
   "execution_count": null,
   "metadata": {},
   "outputs": [],
   "source": [
    "# Tensor-matrix multiplication\n",
    "\n"
   ]
  },
  {
   "cell_type": "code",
   "execution_count": 1,
   "metadata": {},
   "outputs": [],
   "source": [
    "# Linear operator and adjoint\n"
   ]
  },
  {
   "cell_type": "code",
   "execution_count": null,
   "metadata": {},
   "outputs": [],
   "source": [
    "# Homogenous tensor array\n"
   ]
  },
  {
   "cell_type": "code",
   "execution_count": null,
   "metadata": {},
   "outputs": [],
   "source": [
    "# Tensor rank\n",
    "\n",
    "# Tensor n-rank"
   ]
  },
  {
   "cell_type": "code",
   "execution_count": null,
   "metadata": {},
   "outputs": [],
   "source": []
  }
 ],
 "metadata": {
  "interpreter": {
   "hash": "e57f69335758b23c23a47b44fd41199ee6737f5e87b51803c89363250a70ed4d"
  },
  "kernelspec": {
   "display_name": "Python 3.9.7 ('HoRPCAtf')",
   "language": "python",
   "name": "python3"
  },
  "language_info": {
   "codemirror_mode": {
    "name": "ipython",
    "version": 3
   },
   "file_extension": ".py",
   "mimetype": "text/x-python",
   "name": "python",
   "nbconvert_exporter": "python",
   "pygments_lexer": "ipython3",
   "version": "3.9.7"
  },
  "orig_nbformat": 4
 },
 "nbformat": 4,
 "nbformat_minor": 2
}
